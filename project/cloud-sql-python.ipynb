{
 "cells": [
  {
   "cell_type": "markdown",
   "metadata": {},
   "source": [
    "# How to build Google Cloud SDK in Python"
   ]
  },
  {
   "cell_type": "markdown",
   "metadata": {},
   "source": [
    "###### Author: Mohamed Niang, Data Scientist at FeetMe"
   ]
  },
  {
   "cell_type": "markdown",
   "metadata": {},
   "source": [
    "# Requirements"
   ]
  },
  {
   "cell_type": "markdown",
   "metadata": {},
   "source": [
    "**1. From Anacounda Cmd Prompt, install the required libraries from the following commands**"
   ]
  },
  {
   "cell_type": "markdown",
   "metadata": {},
   "source": [
    "``` Python\n",
    "pip install PyMySQL\n",
    "pip install google-cloud-storage\n",
    "```"
   ]
  },
  {
   "cell_type": "markdown",
   "metadata": {},
   "source": [
    "**2. Configure the config.py file in your current working folder and save the file**"
   ]
  },
  {
   "cell_type": "markdown",
   "metadata": {},
   "source": [
    "``` Python\n",
    "\"\"\"Google Cloud Storage Configuration.\"\"\"\n",
    "\n",
    "from os import environ\n",
    "\n",
    "import os\n",
    "\n",
    "\n",
    "# Google Cloud Storage\n",
    "bucketURL = environ.get('GCP_BUCKET_URL')\n",
    "\n",
    "bucketName = environ.get('GCP_BUCKET_NAME')\n",
    "\n",
    "bucketFolder = environ.get('GCP_BUCKET_FOLDER_NAME')\n",
    "\n",
    "# Local folder to download Data\n",
    "localFolder = os.path.abspath(os.getcwd())\n",
    "```"
   ]
  },
  {
   "cell_type": "markdown",
   "metadata": {},
   "source": [
    "# Import library"
   ]
  },
  {
   "cell_type": "code",
   "execution_count": 1,
   "metadata": {},
   "outputs": [],
   "source": [
    "# Pandas library\n",
    "import pandas as pd\n",
    "\n",
    "# Cloud sql library\n",
    "import pymysql\n",
    "\n",
    "# Cloud storage library\n",
    "import os\n",
    "from os import listdir\n",
    "from os.path import isfile, join\n",
    "from google.cloud import storage\n",
    "from config import bucketName, localFolder, bucketFolder"
   ]
  },
  {
   "cell_type": "markdown",
   "metadata": {},
   "source": [
    "**Important:** <div style=\"text-align: justify\"> To create an sql cloud connection from python, it is first necessary to configure the proxy to authenticate to sql cloud. That is, you should allow python to access the Google Cloud on behalf of your application, using a set of Google credentials. This is a separate process from authenticating database users. </div>"
   ]
  },
  {
   "cell_type": "markdown",
   "metadata": {},
   "source": [
    "# Create Proxy for Cloud Sql Authentication"
   ]
  },
  {
   "cell_type": "markdown",
   "metadata": {},
   "source": [
    "<div style=\"text-align: justify\"> To do this, you first need to install the sql cloud proxy from the following link: </div>"
   ]
  },
  {
   "cell_type": "markdown",
   "metadata": {},
   "source": [
    "-  https://dl.google.com/cloudsql/cloud_sql_proxy_x64.exe"
   ]
  },
  {
   "cell_type": "markdown",
   "metadata": {},
   "source": [
    "<div style=\"text-align: justify\"> Then select Save Link As, save the file in the windows system 32 folder. Rename the file to cloud_sql_proxy.exe. </div>"
   ]
  },
  {
   "cell_type": "markdown",
   "metadata": {},
   "source": [
    "- **C:\\Windows\\System32**"
   ]
  },
  {
   "cell_type": "markdown",
   "metadata": {},
   "source": [
    "<div style=\"text-align: justify\"> After that, open your windows prompt in administrator mode and run the following code:\n",
    "</div>"
   ]
  },
  {
   "cell_type": "markdown",
   "metadata": {},
   "source": [
    "- **cloud_sql_proxy -instances=myProject:us-central1:myInstance=tcp:3306**"
   ]
  },
  {
   "cell_type": "markdown",
   "metadata": {},
   "source": [
    "# Cloud SQL Connexion"
   ]
  },
  {
   "cell_type": "markdown",
   "metadata": {},
   "source": [
    "<div style=\"text-align: justify\"> To connect to a cloud database via python, you would need to have the connection parameters. These parameters can be obtained from the user who created the project in the cloud. These connection parameters are the following:\n",
    "</div>"
   ]
  },
  {
   "cell_type": "markdown",
   "metadata": {},
   "source": [
    "- user\n",
    "- password\n",
    "- db"
   ]
  },
  {
   "cell_type": "markdown",
   "metadata": {},
   "source": [
    "**Important: The google cloud sql hostname is : '127.0.0.1'.**"
   ]
  },
  {
   "cell_type": "code",
   "execution_count": 2,
   "metadata": {},
   "outputs": [],
   "source": [
    "# Define cloud sql connexion\n",
    "connection = pymysql.connect(host='127.0.0.1',\n",
    "                                 user='user',\n",
    "                                 password='password',\n",
    "                                 db='database')"
   ]
  },
  {
   "cell_type": "code",
   "execution_count": 3,
   "metadata": {},
   "outputs": [],
   "source": [
    "with connection: \n",
    "    cur = connection.cursor()\n",
    "    cur.execute(\"SELECT * FROM path_data\")"
   ]
  },
  {
   "cell_type": "code",
   "execution_count": 4,
   "metadata": {},
   "outputs": [
    {
     "name": "stdout",
     "output_type": "stream",
     "text": [
      "(('path_to_movie', 253, None, 1020, 1020, 0, True), ('recordID', 253, None, 1020, 1020, 0, False))\n"
     ]
    }
   ],
   "source": [
    "print(cur.description)"
   ]
  },
  {
   "cell_type": "code",
   "execution_count": 5,
   "metadata": {},
   "outputs": [],
   "source": [
    "data = cur.fetchall()"
   ]
  },
  {
   "cell_type": "code",
   "execution_count": 6,
   "metadata": {},
   "outputs": [],
   "source": [
    "df = pd.DataFrame(list(data), columns = ['path_to_movie', 'recordID'])"
   ]
  },
  {
   "cell_type": "code",
   "execution_count": 7,
   "metadata": {},
   "outputs": [],
   "source": [
    "# Setting recordID as index column \n",
    "df.set_index(\"recordID\", inplace = True) "
   ]
  },
  {
   "cell_type": "code",
   "execution_count": 8,
   "metadata": {},
   "outputs": [
    {
     "data": {
      "text/html": [
       "<div>\n",
       "<style scoped>\n",
       "    .dataframe tbody tr th:only-of-type {\n",
       "        vertical-align: middle;\n",
       "    }\n",
       "\n",
       "    .dataframe tbody tr th {\n",
       "        vertical-align: top;\n",
       "    }\n",
       "\n",
       "    .dataframe thead th {\n",
       "        text-align: right;\n",
       "    }\n",
       "</style>\n",
       "<table border=\"1\" class=\"dataframe\">\n",
       "  <thead>\n",
       "    <tr style=\"text-align: right;\">\n",
       "      <th></th>\n",
       "      <th>path_to_movie</th>\n",
       "    </tr>\n",
       "    <tr>\n",
       "      <th>recordID</th>\n",
       "      <th></th>\n",
       "    </tr>\n",
       "  </thead>\n",
       "  <tbody>\n",
       "    <tr>\n",
       "      <th>3rrfUBx2yNisxcTY8n6o</th>\n",
       "      <td>VID_20190319_151442.mp4</td>\n",
       "    </tr>\n",
       "  </tbody>\n",
       "</table>\n",
       "</div>"
      ],
      "text/plain": [
       "                                path_to_movie\n",
       "recordID                                     \n",
       "3rrfUBx2yNisxcTY8n6o  VID_20190319_151442.mp4"
      ]
     },
     "metadata": {},
     "output_type": "display_data"
    }
   ],
   "source": [
    "display(df)"
   ]
  },
  {
   "cell_type": "code",
   "execution_count": 9,
   "metadata": {},
   "outputs": [],
   "source": [
    "# Test recordID\n",
    "recordID_vid_to_download = df.loc['3rrfUBx2yNisxcTY8n6o']['path_to_movie']"
   ]
  },
  {
   "cell_type": "code",
   "execution_count": 10,
   "metadata": {},
   "outputs": [
    {
     "name": "stdout",
     "output_type": "stream",
     "text": [
      "VID_20190319_151442.mp4\n"
     ]
    }
   ],
   "source": [
    "print(recordID_vid_to_download)"
   ]
  },
  {
   "cell_type": "markdown",
   "metadata": {},
   "source": [
    "# Cloud Storage Connexion"
   ]
  },
  {
   "cell_type": "markdown",
   "metadata": {},
   "source": [
    "<div style=\"text-align: justify\"> To connect to google cloud storage via python, you need to provide the service account credentials and simply set the environment variable.\n",
    "</div>"
   ]
  },
  {
   "cell_type": "markdown",
   "metadata": {},
   "source": [
    "**1. After creating a service account, you have two choices for providing the credentials to your application. You can either set the environment variable GOOGLE_APPLICATION_CREDENTIALS explicitly, or you can specify the path to the service account key in the code.**"
   ]
  },
  {
   "cell_type": "markdown",
   "metadata": {},
   "source": [
    "**2. Provide authentication credentials to your application code by setting the environment variable GOOGLE_APPLICATION_CREDENTIALS. Replace [PATH] with the path to the JSON file containing your service account key and [FILE_NAME] with the filename. This variable applies only to the current shell session. Therefore, if you open a new session, you must set it again.**"
   ]
  },
  {
   "cell_type": "code",
   "execution_count": 11,
   "metadata": {},
   "outputs": [],
   "source": [
    "# Set GOOGLE_APPLICATION_CREDENTIALS env var in python\n",
    "os.environ[\"GOOGLE_APPLICATION_CREDENTIALS\"]=\"file.json\""
   ]
  },
  {
   "cell_type": "code",
   "execution_count": 12,
   "metadata": {},
   "outputs": [
    {
     "name": "stdout",
     "output_type": "stream",
     "text": [
      "FeetMe-Mobility-Dev-e90a29c38323.json\n"
     ]
    }
   ],
   "source": [
    "print(os.environ['GOOGLE_APPLICATION_CREDENTIALS']) "
   ]
  },
  {
   "cell_type": "code",
   "execution_count": 13,
   "metadata": {},
   "outputs": [],
   "source": [
    "# Initialise a client\n",
    "storage_client = storage.Client()"
   ]
  },
  {
   "cell_type": "code",
   "execution_count": 14,
   "metadata": {},
   "outputs": [],
   "source": [
    "# Create a bucket object for our bucket\n",
    "bucket = storage_client.get_bucket('bucket_name')"
   ]
  },
  {
   "cell_type": "code",
   "execution_count": 15,
   "metadata": {},
   "outputs": [],
   "source": [
    "# Listing Files\n",
    "def list_files(bucketName):\n",
    "    \"\"\"List all files in GCP bucket.\"\"\"\n",
    "    files = bucket.list_blobs(prefix=bucketFolder)\n",
    "    fileList = [file.name for file in files if '.' in file.name]\n",
    "    return fileList"
   ]
  },
  {
   "cell_type": "code",
   "execution_count": 16,
   "metadata": {},
   "outputs": [],
   "source": [
    "# Listing Files\n",
    "storage_files = list_files('bucket_name')"
   ]
  },
  {
   "cell_type": "code",
   "execution_count": 17,
   "metadata": {},
   "outputs": [
    {
     "name": "stdout",
     "output_type": "stream",
     "text": [
      "['VID_20190319_151442.mp4']\n"
     ]
    }
   ],
   "source": [
    "print(storage_files)"
   ]
  },
  {
   "cell_type": "code",
   "execution_count": 18,
   "metadata": {},
   "outputs": [],
   "source": [
    "# Function to Downloading Files\n",
    "def download_file(bucketName, recordID_vid_to_download):\n",
    "    \"\"\"Download files from GCP bucket.\"\"\"\n",
    "    blob = bucket.blob(recordID_vid_to_download)\n",
    "    fileName = blob.name.split('/')[0]\n",
    "    blob.download_to_filename(fileName)\n",
    "    return f'{fileName} downloaded from bucket.'"
   ]
  },
  {
   "cell_type": "code",
   "execution_count": 19,
   "metadata": {},
   "outputs": [
    {
     "data": {
      "text/plain": [
       "'VID_20190319_151442.mp4 downloaded from bucket.'"
      ]
     },
     "execution_count": 19,
     "metadata": {},
     "output_type": "execute_result"
    }
   ],
   "source": [
    "# Download Files\n",
    "download_file(bucketName, recordID_vid_to_download)"
   ]
  }
 ],
 "metadata": {
  "kernelspec": {
   "display_name": "Python 3",
   "language": "python",
   "name": "python3"
  },
  "language_info": {
   "codemirror_mode": {
    "name": "ipython",
    "version": 3
   },
   "file_extension": ".py",
   "mimetype": "text/x-python",
   "name": "python",
   "nbconvert_exporter": "python",
   "pygments_lexer": "ipython3",
   "version": "3.7.6"
  }
 },
 "nbformat": 4,
 "nbformat_minor": 4
}
